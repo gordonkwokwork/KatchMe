{
 "cells": [
  {
   "cell_type": "code",
   "execution_count": 2,
   "id": "3e61bad8",
   "metadata": {},
   "outputs": [
    {
     "name": "stdout",
     "output_type": "stream",
     "text": [
      "Successfully saved merged data to Multiple+waybill+upload+template.xlsx\n"
     ]
    }
   ],
   "source": [
    "import pandas as pd\n",
    "# File paths\n",
    "linnworks_csv = 'shein_open_order_tracking_info.csv'  # Linnworks CSV\n",
    "address_csv = '导出订单地址.csv'  # Address/order CSV\n",
    "output_xlsx = 'Multiple+waybill+upload+template.xlsx'\n",
    "\n",
    "# Load Linnworks tracking data\n",
    "linnworks_df = pd.read_csv(linnworks_csv)\n",
    "\n",
    "# Load order address data\n",
    "address_df = pd.read_csv(address_csv)\n",
    "\n",
    "# Rename for merge\n",
    "address_df.rename(columns={'GSP订单号': 'Order Number', '商品ID': 'Item ID'}, inplace=True)\n",
    "\n",
    "# Merge on 'Order Number'\n",
    "merged_df = pd.merge(address_df, linnworks_df, on='Order Number', how='left')\n",
    "\n",
    "# Select relevant columns\n",
    "columns_to_keep = ['Order Number', 'Item ID', 'Tracking Number', 'Logistics Provider']\n",
    "result_df = merged_df[columns_to_keep]\n",
    "\n",
    "# Save to Excel\n",
    "result_df.to_excel(output_xlsx, index=False)\n",
    "\n",
    "print(f'Successfully saved merged data to {output_xlsx}')"
   ]
  }
 ],
 "metadata": {
  "kernelspec": {
   "display_name": "Python 3",
   "language": "python",
   "name": "python3"
  },
  "language_info": {
   "codemirror_mode": {
    "name": "ipython",
    "version": 3
   },
   "file_extension": ".py",
   "mimetype": "text/x-python",
   "name": "python",
   "nbconvert_exporter": "python",
   "pygments_lexer": "ipython3",
   "version": "3.13.5"
  }
 },
 "nbformat": 4,
 "nbformat_minor": 5
}
