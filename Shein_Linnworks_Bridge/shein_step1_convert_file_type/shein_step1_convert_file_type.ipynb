{
 "cells": [
  {
   "cell_type": "code",
   "execution_count": 1,
   "id": "74ec58dc",
   "metadata": {},
   "outputs": [
    {
     "name": "stdout",
     "output_type": "stream",
     "text": [
      "Success! Converted '导出订单地址.xlsx' to '导出订单地址.csv', reorganized orders, and deleted Excel.\n"
     ]
    },
    {
     "name": "stderr",
     "output_type": "stream",
     "text": [
      "c:\\Users\\Fulfillment\\AppData\\Local\\Programs\\Python\\Python313\\Lib\\site-packages\\openpyxl\\styles\\stylesheet.py:237: UserWarning: Workbook contains no default style, apply openpyxl's default\n",
      "  warn(\"Workbook contains no default style, apply openpyxl's default\")\n"
     ]
    }
   ],
   "source": [
    "import pandas as pd\n",
    "import os\n",
    "\n",
    "# 1. Convert Excel to CSV (original code)\n",
    "excel_file = '导出订单地址.xlsx'\n",
    "csv_file = '导出订单地址.csv'\n",
    "\n",
    "# Read Excel and save as CSV\n",
    "df = pd.read_excel(excel_file)\n",
    "df.to_csv(csv_file, index=False, encoding='utf-8-sig')\n",
    "\n",
    "# 2. Reorganize CSV (new logic)\n",
    "# Reload the CSV to process (avoid Excel formatting issues)\n",
    "df = pd.read_csv(csv_file)\n",
    "\n",
    "# Identify duplicate and unique GSP订单号\n",
    "duplicate_mask = df.duplicated('GSP订单号', keep=False)\n",
    "duplicate_orders = df[duplicate_mask].sort_values(['卖家SKU'])\n",
    "unique_orders = df[~duplicate_mask].sort_values('卖家SKU')\n",
    "\n",
    "# Combine: duplicates first, then sorted uniques\n",
    "final_df = pd.concat([duplicate_orders, unique_orders])\n",
    "\n",
    "# Overwrite the CSV with reorganized data\n",
    "final_df.to_csv(csv_file, index=False, encoding='utf-8-sig')\n",
    "\n",
    "# 3. Delete the original Excel file\n",
    "os.remove(excel_file)\n",
    "\n",
    "print(f\"Success! Converted '{excel_file}' to '{csv_file}', reorganized orders, and deleted Excel.\")"
   ]
  }
 ],
 "metadata": {
  "kernelspec": {
   "display_name": "Python 3",
   "language": "python",
   "name": "python3"
  },
  "language_info": {
   "codemirror_mode": {
    "name": "ipython",
    "version": 3
   },
   "file_extension": ".py",
   "mimetype": "text/x-python",
   "name": "python",
   "nbconvert_exporter": "python",
   "pygments_lexer": "ipython3",
   "version": "3.13.5"
  }
 },
 "nbformat": 4,
 "nbformat_minor": 5
}
