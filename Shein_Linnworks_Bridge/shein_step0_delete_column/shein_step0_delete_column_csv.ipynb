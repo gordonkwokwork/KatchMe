{
 "cells": [
  {
   "cell_type": "code",
   "execution_count": null,
   "id": "4acdf2ef",
   "metadata": {},
   "outputs": [
    {
     "name": "stdout",
     "output_type": "stream",
     "text": [
      "Done: Columns dropped, autofitted by Excel, file opened.\n"
     ]
    }
   ],
   "source": [
    "import pandas as pd\n",
    "import os\n",
    "import sys\n",
    "\n",
    "# Handle paths correctly\n",
    "if getattr(sys, 'frozen', False):\n",
    "    script_dir = os.path.dirname(sys.executable)\n",
    "else:\n",
    "    try:\n",
    "        script_dir = os.path.dirname(os.path.abspath(__file__))\n",
    "    except NameError:\n",
    "        script_dir = os.getcwd()\n",
    "\n",
    "file_path = os.path.join(script_dir, \"导出订单地址.csv\")\n",
    "\n",
    "# Load the CSV file\n",
    "df = pd.read_csv(file_path, encoding='utf-8-sig')\n",
    "\n",
    "# Columns to drop (keep 商品ID, 国家, 省份, 城市)\n",
    "columns_to_drop = [\n",
    "    \"订单创建时间\", \"要求签收时间\", \"商品名称\", \"规格\", \"货号\",\n",
    "    \"平台SKU\", \"平台SKC\", \"平台SPU\", \"商品价格\", \"商品预计收入\",\n",
    "    \"币种\", \"国家\", \"区\", \"用户姓氏\", \"用户名字\", \"用户邮箱\", \"税号\"\n",
    "]\n",
    "\n",
    "# Drop the columns\n",
    "df = df.drop(columns=columns_to_drop, errors='ignore')\n",
    "\n",
    "# Save back to CSV\n",
    "df.to_csv(file_path, index=False, encoding='utf-8-sig')\n",
    "\n",
    "# Open the CSV file\n",
    "os.startfile(file_path)\n",
    "\n",
    "print(\"Done: Columns dropped, saved as CSV, file opened.\")"
   ]
  }
 ],
 "metadata": {
  "kernelspec": {
   "display_name": "Python 3",
   "language": "python",
   "name": "python3"
  },
  "language_info": {
   "codemirror_mode": {
    "name": "ipython",
    "version": 3
   },
   "file_extension": ".py",
   "mimetype": "text/x-python",
   "name": "python",
   "nbconvert_exporter": "python",
   "pygments_lexer": "ipython3",
   "version": "3.13.5"
  }
 },
 "nbformat": 4,
 "nbformat_minor": 5
}
